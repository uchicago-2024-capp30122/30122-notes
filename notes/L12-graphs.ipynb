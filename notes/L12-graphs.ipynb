{
 "cells": [
  {
   "cell_type": "raw",
   "metadata": {},
   "source": [
    "---\n",
    "title: L12 - Graphs\n",
    "---"
   ]
  },
  {
   "cell_type": "markdown",
   "metadata": {},
   "source": [
    "# Graphs\n",
    "\n",
    "Graphs are a generalization of the node/link data structure.\n",
    "\n",
    "Trees are subsets of graphs.\n",
    "\n",
    "Though, as we saw with the heap, we can choose alternative representations.\n",
    "\n",
    "## Videos\n",
    "\n",
    "- [Trees](https://www.youtube.com/watch?v=LAiE3ZbvVMc&list=PLhYo_Vm1N6SVEDF6aRUewG2RDdrficSiI&index=1)\n",
    "- [Trees to Graphs](https://www.youtube.com/watch?v=OkWOuDegVCs&list=PLhYo_Vm1N6SVEDF6aRUewG2RDdrficSiI&index=2)\n",
    "- [Types of Graphs](https://www.youtube.com/watch?v=xe4-d2en_9I&list=PLhYo_Vm1N6SVEDF6aRUewG2RDdrficSiI&index=3)\n",
    "- [Formal Definition](https://www.youtube.com/watch?v=n3BT7nK4XiQ&list=PLhYo_Vm1N6SVEDF6aRUewG2RDdrficSiI&index=4)\n",
    "- [Terminology](https://www.youtube.com/watch?v=D8prNPdrLSk&list=PLhYo_Vm1N6SVEDF6aRUewG2RDdrficSiI&index=5)\n",
    "\n",
    "## Graph Terminology \n",
    "\n",
    "* **Node**: A single entity in a graph.  Nodes may have arbitrary attributes such as name, color, size, etc. Nodes are typically represented as circles when drawing a graph.\n",
    "* **Edge**: A connection between two nodes.  Edges may have weight, direction, or other attributes.  Edges are typically represented as lines when drawing a graph, and arrows for a directed graph.\n",
    "* **Directed Graph** or **Digraph**: A graph where edges have a direction.  For example, a graph of social media users where each edge represents a follow relationship would be a directed graph.  The direction of the edge would be from the user who is following to the user who is being followed.\n",
    "\n",
    "* **Path**: A sequence of nodes and edges connecting two nodes.\n",
    "* **Cycle**: A path where the first and last nodes are the same.\n",
    "\n",
    "* **Connected**: A graph is connected if there is a path between every pair of nodes.\n",
    "* **Disconnected**: A graph is disconnected if there is no path between some pair of nodes.\n",
    "* **Complete**: A graph is complete if there is an edge between every pair of nodes.\n",
    "\n",
    "* **Acyclic**: A graph is acyclic if it has no cycles.  This means it is a tree or a forest.\n",
    "* **Tree**: A graph is a tree if it is connected and acyclic.  (This also means it will inherently have a single root node.)\n",
    "* **Forest**: A graph is a forest if it is disconnected and acyclic.  (This also means it will inherently have multiple root nodes.)\n",
    "\n",
    "## Graph Representation\n",
    "\n",
    "[Graph Representation Video](https://www.youtube.com/watch?v=e_wZEf5jvGE&list=PLhYo_Vm1N6SVEDF6aRUewG2RDdrficSiI&index=6)\n",
    "\n",
    "There are many ways to represent a graph.  The most common are and adjacency matrix and adjacency list.\n",
    "\n",
    "Adjacency matrix: A matrix where the rows and columns represent nodes and the values represent the edges between nodes.\n",
    "\n",
    "Adjacency list: A list where each index represents a node and the values represent the edges between nodes.\n",
    "\n",
    "### Simple Python Graph"
   ]
  },
  {
   "cell_type": "code",
   "execution_count": null,
   "metadata": {},
   "outputs": [],
   "source": [
    "class Graph:\n",
    "    def __init__(self):\n",
    "        # keys are names of nodes, value are node attributes\n",
    "        self.nodes = {\n",
    "        }\n",
    "        # keys are tuples of nodes, values are lists of adjacent nodes\n",
    "        self.edges = defaultdict(dict)\n",
    "        \n",
    "    def add_node(self, value, **attributes):\n",
    "        \"\"\"\n",
    "        Add a node to the graph.\n",
    "\n",
    "        Parameters\n",
    "        ----------\n",
    "        value : hashable\n",
    "            The value of the node to add.\n",
    "        attributes: keyword arguments\n",
    "            Attributes to add to the node.\n",
    "\n",
    "        Example:\n",
    "        >>> g = Graph()\n",
    "        >>> g.add_node(1, color='red', city_name=\"Chicago\")\n",
    "        >>> g.nodes\n",
    "        {1: {'color': 'red'}}\n",
    "        \"\"\"\n",
    "        self.nodes[value] = attributes\n",
    "\n",
    "    def add_edge(self, from_node, to_node):\n",
    "        \"\"\"\n",
    "        Add an edge to the graph.\n",
    "\n",
    "        Parameters\n",
    "        ----------\n",
    "        from_node : hashable\n",
    "            The value of the node the edge is coming from.\n",
    "        to_node : hashable\n",
    "            The value of the node the edge is going to.\n",
    "        \"\"\"\n",
    "        self.edges[from_node].append(to_node)\n",
    "        self.edges[to_node].append(from_node)"
   ]
  },
  {
   "cell_type": "markdown",
   "metadata": {},
   "source": [
    "## Depth First Search (DFS) vs Breadth First Search (BFS)\n",
    "\n",
    "- [Breadth First Search](https://www.youtube.com/watch?v=0GhYZ8I-_8s&list=PLhYo_Vm1N6SVEDF6aRUewG2RDdrficSiI&index=7)\n",
    "- [Depth First Search](https://www.youtube.com/watch?v=edwzwom1E68&list=PLhYo_Vm1N6SVEDF6aRUewG2RDdrficSiI&index=8)\n",
    "\n",
    "**Depth First Search**: A search algorithm that starts at the root node and explores as far as possible along each branch before backtracking.\n",
    "\n",
    "Good for finding all nodes connected to a given node.\n",
    "\n",
    "Uses a stack to keep track of the nodes to visit.  Last in, first out - we visit nodes as we see them & keep track of other nodes to visit/backtrack to later.\n",
    "\n",
    "**Breadth First Search**: A search algorithm that starts at the root node and explores the neighbor nodes first, before moving to the next level neighbors.\n",
    "\n",
    "Good for finding the shortest path between two nodes.\n",
    "\n",
    "Uses a queue to keep track of the nodes to visit.  First in, first out - we enqueue nodes as we see them & visit nodes in the order they were seen.\n",
    "\n",
    "\n",
    "## NetworkX\n",
    "\n",
    "NetworkX is a full-featured Python library for working with graphs.  It provides a wide range of graph algorithms, drawing tools, and data structures.\n",
    "\n",
    "Credits: Large of this section are based on the NetworkX tutorial: https://networkx.org/documentation/stable/tutorial.html\n",
    "\n",
    "### Creating an empty graph"
   ]
  },
  {
   "cell_type": "code",
   "execution_count": null,
   "metadata": {},
   "outputs": [],
   "source": [
    "import networkx as nx\n",
    "\n",
    "g = nx.Graph()\n",
    "g"
   ]
  },
  {
   "cell_type": "markdown",
   "metadata": {},
   "source": [
    "As we'll see later, there are lots of other options to get a graph with some nodes and edges already in it.\n",
    "\n",
    "### Nodes\n",
    "\n",
    "In NetworkX, nodes can be any [hashable](https://docs.python.org/3/glossary.html#term-hashable) object e.g., a text string, an image, an XML object, another Graph, a customized node object, etc."
   ]
  },
  {
   "cell_type": "code",
   "execution_count": null,
   "metadata": {},
   "outputs": [],
   "source": [
    "g.add_node(1)\n",
    "g.add_node(\"Hello\")"
   ]
  },
  {
   "cell_type": "markdown",
   "metadata": {},
   "source": [
    "You can add one node at a time via `add_node()` or add nodes from any [iterable](https://docs.python.org/3/glossary.html#term-iterable) container, such as a list via `add_nodes_from()`."
   ]
  },
  {
   "cell_type": "code",
   "execution_count": null,
   "metadata": {},
   "outputs": [],
   "source": [
    "g.add_nodes_from([2, 3])"
   ]
  },
  {
   "cell_type": "markdown",
   "metadata": {},
   "source": [
    "You can also add nodes along with node\n",
    "attributes if your container yields 2-tuples of the form\n",
    "`(node, node_attribute_dict)`:"
   ]
  },
  {
   "cell_type": "code",
   "execution_count": null,
   "metadata": {},
   "outputs": [],
   "source": [
    "g.add_nodes_from([(4, {\"color\": \"red\"}), (5, {\"color\": \"green\"})])"
   ]
  },
  {
   "cell_type": "markdown",
   "metadata": {},
   "source": [
    "We can also add nodes from another graph:"
   ]
  },
  {
   "cell_type": "code",
   "execution_count": null,
   "metadata": {},
   "outputs": [],
   "source": [
    "c5 = nx.complete_graph(5)\n",
    "g.add_nodes_from(c5)"
   ]
  },
  {
   "cell_type": "markdown",
   "metadata": {},
   "source": [
    "Not to be confused for"
   ]
  },
  {
   "cell_type": "code",
   "execution_count": null,
   "metadata": {},
   "outputs": [],
   "source": [
    "g.add_node(c5)"
   ]
  },
  {
   "cell_type": "markdown",
   "metadata": {},
   "source": [
    "This adds `c5` as a node in `g` rather than adding the nodes from `c5` to `g`.  The decision in NetworkX to allow arbitrary objects as nodes is very powerful.\n",
    "\n",
    "You can have your nodes represent actual data structures (files, functions, database records, etc.) and use the graph structure to represent relationships between them.\n",
    "\n",
    "You can also decide you want each node to just be a name or ID, and just use a dictionary keyed by node name to store the node attributes if you prefer.\n",
    "\n",
    "### Adding edges\n",
    "\n",
    "Graphs can also be grown by adding edges.  Like nodes, edges can be added one at a time, or from a container of edge-tuples."
   ]
  },
  {
   "cell_type": "code",
   "execution_count": null,
   "metadata": {},
   "outputs": [],
   "source": [
    "g.add_edge(1, 2)\n",
    "g.add_edges_from([(2, 3), (1, 3)])"
   ]
  },
  {
   "cell_type": "markdown",
   "metadata": {},
   "source": [
    "Note: The `nx.Graph` class represents an undirected graph, if you want a directed graph use `nx.DiGraph`.\n",
    "\n",
    "Edges can have attributes too."
   ]
  },
  {
   "cell_type": "code",
   "execution_count": null,
   "metadata": {},
   "outputs": [],
   "source": [
    "# weight is a special attribute that must be numeric\n",
    "g.add_edge(5, 6, weight=4.7)\n",
    "\n",
    "# other attributes can be any Python object\n",
    "g.add_edge(3, 6, annotation=\"this is an edge from 3 to 6\", koalas=10)"
   ]
  },
  {
   "cell_type": "markdown",
   "metadata": {},
   "source": [
    "### Accessing nodes and edges\n",
    "\n",
    "You can access nodes and edges using the `nodes` and `edges` attributes."
   ]
  },
  {
   "cell_type": "code",
   "execution_count": null,
   "metadata": {},
   "outputs": [],
   "source": [
    "list(g.nodes)"
   ]
  },
  {
   "cell_type": "code",
   "execution_count": null,
   "metadata": {},
   "outputs": [],
   "source": [
    "list(g.edges)"
   ]
  },
  {
   "cell_type": "markdown",
   "metadata": {},
   "source": [
    "Some other useful methods:"
   ]
  },
  {
   "cell_type": "code",
   "execution_count": null,
   "metadata": {},
   "outputs": [],
   "source": [
    "g.number_of_nodes()"
   ]
  },
  {
   "cell_type": "code",
   "execution_count": null,
   "metadata": {},
   "outputs": [],
   "source": [
    "g.number_of_edges()"
   ]
  },
  {
   "cell_type": "markdown",
   "metadata": {},
   "source": [
    "### Alternative constructors\n",
    "\n",
    "Graph objects do not have to be built up incrementally - data specifying\n",
    "graph structure can be passed directly to the constructors of the various\n",
    "graph classes.\n",
    "\n",
    "When creating a graph structure by instantiating one of the graph\n",
    "classes you can specify data in several formats."
   ]
  },
  {
   "cell_type": "code",
   "execution_count": null,
   "metadata": {},
   "outputs": [],
   "source": [
    "# create one graph from another\n",
    "g.add_edge(1, 2)\n",
    "dg = nx.DiGraph(g)  # create a DiGraph using the connections from G\n",
    "list(dg.edges())"
   ]
  },
  {
   "cell_type": "code",
   "execution_count": null,
   "metadata": {},
   "outputs": [],
   "source": [
    "# create a graph from an edge-list (nodes will be created automatically)\n",
    "edgelist = [(0, 1), (1, 2), (2, 3), (72, \"eighty-five\")]\n",
    "g = nx.Graph(edgelist)\n",
    "list(g.edges())"
   ]
  },
  {
   "cell_type": "code",
   "execution_count": null,
   "metadata": {},
   "outputs": [],
   "source": [
    "# create a graph from a dictionary mapping nodes to nodes\n",
    "adjacency_dict = {0: (1, \"g\"), 1: (0, 2), 2: (0, 1)}\n",
    "h = nx.Graph(adjacency_dict)\n",
    "list(h.edges())"
   ]
  },
  {
   "cell_type": "markdown",
   "metadata": {},
   "source": [
    "### Accessing edges and neighbors using subscript notation\n",
    "\n",
    "In addition to the views `Graph.edges`, and `Graph.adj`,\n",
    "access to edges and neighbors is possible using subscript notation."
   ]
  },
  {
   "cell_type": "code",
   "execution_count": null,
   "metadata": {},
   "outputs": [],
   "source": [
    "g = nx.Graph([(1, 2, {\"color\": \"yellow\"})])\n",
    "print(g[1])\n",
    "print(g[1][2])\n",
    "print(g.edges[1, 2])"
   ]
  },
  {
   "cell_type": "markdown",
   "metadata": {},
   "source": [
    "You can get/set the attributes of an edge using subscript notation\n",
    "if the edge already exists."
   ]
  },
  {
   "cell_type": "code",
   "execution_count": null,
   "metadata": {
    "tags": []
   },
   "outputs": [],
   "source": [
    "g.add_edge(1, 3)\n",
    "g[1][3][\"color\"] = \"blue\"\n",
    "g.edges[1, 2][\"color\"] = \"red\"\n",
    "g.edges[1, 2]\n",
    "\n",
    "g.set_edge_property(1, 2, \"blue\")"
   ]
  },
  {
   "cell_type": "markdown",
   "metadata": {},
   "source": [
    "### Adding attributes to graphs, nodes, and edges\n",
    "\n",
    "Attributes such as weights, labels, colors, or whatever Python object you like,\n",
    "can be attached to graphs, nodes, or edges.\n",
    "\n",
    "Each graph, node, and edge can hold key/value attribute pairs in an associated\n",
    "attribute dictionary (the keys must be hashable).  By default these are empty,\n",
    "but attributes can be added or changed using `add_edge`, `add_node` or direct\n",
    "manipulation of the attribute dictionaries named `G.graph`, `G.nodes`, and\n",
    "`G.edges` for a graph `G`.\n",
    "\n",
    "### Graph generators and graph operations\n",
    "\n",
    "In addition to constructing graphs node-by-node or edge-by-edge, they\n",
    "can also be generated in a number of other ways:\n",
    "\n",
    "https://networkx.org/documentation/stable/reference/generators.html\n",
    "\n",
    "Has a list of functions that can be used to generate common graphs.\n",
    "\n",
    "For example, a complete graph of 100 nodes can be created using:"
   ]
  },
  {
   "cell_type": "code",
   "execution_count": null,
   "metadata": {},
   "outputs": [],
   "source": [
    "c100 = nx.complete_graph(100)\n",
    "print(nx.number_of_nodes(c100), \"nodes\", nx.number_of_edges(c100), \"edges\")"
   ]
  },
  {
   "cell_type": "markdown",
   "metadata": {},
   "source": [
    "And a balanced tree can be created via "
   ]
  },
  {
   "cell_type": "code",
   "execution_count": null,
   "metadata": {},
   "outputs": [],
   "source": [
    "tree = nx.balanced_tree(2, 5)  # binary tree (n=2), height=3\n",
    "#nx.draw_shell(g, with_labels=True, font_weight=\"bold\")"
   ]
  },
  {
   "cell_type": "markdown",
   "metadata": {},
   "source": [
    "There are also many standard graph operations provided by NetworkX.\n",
    "\n",
    "<https://networkx.org/documentation/stable/reference/algorithms/index.html>\n",
    "\n",
    "<https://networkx.org/documentation/stable/reference/functions.html>\n",
    "\n",
    "For example, to compute the shortest path between all nodes in a graph:\n"
   ]
  },
  {
   "cell_type": "code",
   "execution_count": null,
   "metadata": {},
   "outputs": [],
   "source": [
    "paths = nx.shortest_path(tree)\n",
    "paths[0][4]"
   ]
  },
  {
   "cell_type": "markdown",
   "metadata": {},
   "source": [
    "### Drawing graphs\n",
    "\n",
    "NetworkX is not a graph drawing package, but provides helper methods to work with Graphviz and Matplotlib."
   ]
  },
  {
   "cell_type": "code",
   "execution_count": null,
   "metadata": {},
   "outputs": [],
   "source": [
    "import networkx as nx\n",
    "import matplotlib.pyplot as plt\n",
    "\n",
    "g = nx.petersen_graph()\n",
    "subax1 = plt.subplot(121)\n",
    "nx.draw(g, with_labels=True, font_weight=\"bold\")\n",
    "subax2 = plt.subplot(122)\n",
    "nx.draw_shell(g, nlist=[range(5, 10), range(5)], with_labels=True, font_weight=\"bold\")"
   ]
  },
  {
   "cell_type": "code",
   "execution_count": null,
   "metadata": {},
   "outputs": [],
   "source": [
    "options = {\n",
    "    \"node_color\": \"black\",\n",
    "    \"node_size\": 100,\n",
    "    \"width\": 3,\n",
    "}\n",
    "subax1 = plt.subplot(221)\n",
    "nx.draw_random(g, **options)\n",
    "subax2 = plt.subplot(222)\n",
    "nx.draw_circular(g, **options)\n",
    "subax3 = plt.subplot(223)\n",
    "nx.draw_spectral(g, **options)\n",
    "subax4 = plt.subplot(224)\n",
    "nx.draw_shell(g, nlist=[range(5, 10), range(5)], **options)"
   ]
  },
  {
   "cell_type": "code",
   "execution_count": null,
   "metadata": {
    "tags": []
   },
   "outputs": [],
   "source": [
    "g = nx.dodecahedral_graph()\n",
    "shells = [[2, 3, 4, 5, 6], [8, 1, 0, 19, 18, 17, 16, 15, 14, 7], [9, 10, 11, 12, 13]]\n",
    "nx.draw_shell(g, nlist=shells, **options)"
   ]
  },
  {
   "cell_type": "markdown",
   "metadata": {},
   "source": [
    "<\n",
    "https://networkx.org/documentation/stable/reference/drawing.html>\n",
    "\n",
    "## Graph Algorithm: Topological Sort\n",
    "\n",
    "Topological sort is an algorithm that is specific to Directed Acyclic Graphs.\n",
    "\n",
    "We mentioned before that DAGs are often used for managing dependencies (e.g. this software package requires these others first) or steps in a data pipeline.\n",
    "\n",
    "Running a topological sort on a graph gives a list of vertices in *an* acceptable order, such that each dependent node is only visited after all of its dependencies have been satisfied.  (Emphasis on *an*, many such orderings may exist.)\n",
    "\n",
    "DFS in psuedocode:\n",
    "\n",
    "We need a list `TL`, and a function `visit`.  \n",
    "\n",
    "We will also define three \"colors\" for our nodes.\n",
    "\n",
    "* White: Unvisited\n",
    "* Blue: Temporary Mark\n",
    "* Black: Permanent Mark\n",
    "\n",
    "```\n",
    "while there are unvisited nodes:\n",
    "    select a random white/unmarked node -> n\n",
    "    visit(n)\n",
    "    \n",
    "def visit(node):\n",
    "    if n is black/visited:\n",
    "        return\n",
    "    if n is blue/temporary:\n",
    "        abort -- the graph has cycles and cannot be resolved\n",
    "        \n",
    "    mark n blue\n",
    "    \n",
    "    for each node m with an edge from n to m:\n",
    "        visit(m)\n",
    "    \n",
    "    mark n black (removing blue mark)\n",
    "    add n to head of TL\n",
    "```\n",
    "\n",
    "(this is essentially a Depth First Search with some extra work to detect cycles)\n"
   ]
  },
  {
   "cell_type": "code",
   "execution_count": null,
   "metadata": {},
   "outputs": [],
   "source": [
    "dg = nx.DiGraph(([\"scrape data A\", \"clean data A\"],\n",
    "                 [\"clean data A\", \"merge data\"],\n",
    "                 [\"merge data\", \"import to SQL\"],\n",
    "                 [\"setup database\", \"import to SQL\"],\n",
    "                 [\"import to SQL\", \"generate queries\"],\n",
    "                 [\"generate queries\", \"data viz\"],\n",
    "                 [\"data viz\", \"presentation\"],\n",
    "                 [\"collect data B\", \"clean data B\"],\n",
    "                 [\"clean data B\", \"merge data\"],\n",
    "                 [\"plan data viz\", \"data viz\"],\n",
    "                ))"
   ]
  },
  {
   "cell_type": "code",
   "execution_count": null,
   "metadata": {},
   "outputs": [],
   "source": [
    "nx.draw_spring(dg, with_labels=True, node_color=\"grey\")"
   ]
  },
  {
   "cell_type": "code",
   "execution_count": null,
   "metadata": {},
   "outputs": [],
   "source": [
    "import random\n",
    "\n",
    "def visit(name, existing_path):\n",
    "    data = dg.nodes(data=True)[name]\n",
    "    if data[\"color\"] == \"BLACK\":\n",
    "        return\n",
    "    elif data[\"color\"] == \"BLUE\":\n",
    "        raise Exception(\"Cycle Detected!\")\n",
    "    \n",
    "    data[\"color\"] = \"BLUE\"\n",
    "    \n",
    "    # DFS-like visit to all connected nodes before processing this node\n",
    "    for m in dg.predecessors(name):\n",
    "        visit(m, existing_path)\n",
    "    \n",
    "    data[\"color\"] = \"BLACK\"\n",
    "    # prepend to path\n",
    "    existing_path.insert(0, name)\n",
    "    \n",
    "def topo_sort(graph):\n",
    "    ordering = []\n",
    "    \n",
    "    # add color to each node\n",
    "    for d in graph.nodes.data():\n",
    "        d[1][\"color\"] = \"WHITE\"\n",
    "    \n",
    "    # while there are unvisited nodes\n",
    "    while len(ordering) < len(graph.nodes):\n",
    "        # unvisited nodes\n",
    "        unvisited = [name for name, data in graph.nodes.items() if data[\"color\"] == \"WHITE\"]\n",
    "        visit(random.choice(unvisited), ordering)\n",
    "    if cycle_detected:\n",
    "        return \"cycle detected\"\n",
    "    return ordering[::-1]"
   ]
  },
  {
   "cell_type": "code",
   "execution_count": null,
   "metadata": {},
   "outputs": [],
   "source": [
    "for node in None:\n",
    "    process_step(node)"
   ]
  },
  {
   "cell_type": "code",
   "execution_count": null,
   "metadata": {},
   "outputs": [],
   "source": [
    "topo_sort(dg)"
   ]
  },
  {
   "cell_type": "markdown",
   "metadata": {},
   "source": [
    "## Dijkstra's algorithm \n",
    "\n",
    "This is an algorithm to find the shortest path (accounting for edge weights).  This means it can be used for real-world routing, networks, but also for many other applications depending on what your edge weights represent. \n",
    "\n",
    "(e.g. if you somehow weighted a social graph with how well two people know one another, you could find your closest connection using criteria other than degrees away)\n",
    "\n",
    "1) Build a set of the unvisited nodes called the unvisited set.\n",
    "\n",
    "2) Assign to every node a \"tentative distance\" value, 0 for our starting node, Infinity for all others.  We will update these tentative distances with the length of the shortest path to that node *yet discovered*.\n",
    "\n",
    "3) Set the current node to the starting node.\n",
    "\n",
    "4) For the current node, consider all unvisited neighbors and calculate their tentative distances through the current node.  If the distance through the current node is less than the tentative distance, update the node's tentative distance.\n",
    "\n",
    "5) When we have visited all neighbors of the current node, mark the node as visited/remove it from the unvisited set.\n",
    "\n",
    "6) If the destination node has been marked visited, stop.  Otherwise select the unvisited node witht he smallest tentative distance and set it as the new current node.  Go back to step 3."
   ]
  }
 ],
 "metadata": {
  "kernelspec": {
   "display_name": "Python 3 (ipykernel)",
   "language": "python",
   "name": "python3"
  },
  "language_info": {
   "codemirror_mode": {
    "name": "ipython",
    "version": 3
   },
   "file_extension": ".py",
   "mimetype": "text/x-python",
   "name": "python",
   "nbconvert_exporter": "python",
   "pygments_lexer": "ipython3",
   "version": "3.11.8"
  }
 },
 "nbformat": 4,
 "nbformat_minor": 4
}
